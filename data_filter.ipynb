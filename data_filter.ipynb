{
 "cells": [
  {
   "cell_type": "markdown",
   "id": "9878a3a2",
   "metadata": {},
   "source": [
    "### I. Research Questions:\n",
    "1. Which psychiatric diagnosis are associated with higher ICU readmission rates? -> Do patient with mood disorders (296.x), psychotic disorders (295.x) or substance use (303-305) have higher [30]-day readmission rates compared to those without?\n",
    "2. Does discontinuation or poor psychotropic medications at discharge predict higher readmissions? -> Does the discontinuation of psychotropic medication upon discharge correlate with increased readmission risk?\n",
    "3. Can we combine patient-level features to predict ICU readmission risk? -> which combination of demographics, ICU, severity scores and medication changes is most predictive of readmission?"
   ]
  },
  {
   "cell_type": "code",
   "execution_count": 1,
   "id": "8b2c24e5",
   "metadata": {},
   "outputs": [
    {
     "name": "stdout",
     "output_type": "stream",
     "text": [
      "Initial admissions: 431088 Patients: 299777 Notes: 4752265\n",
      "After excluding <18: 431088 Patients: 180747 Notes: 4752265\n",
      "Psych admissions: 117189 Patients: 55780 Notes: 1401206\n"
     ]
    }
   ],
   "source": [
    "import pandas as pd\n",
    "\n",
    "# Step 1: Load datasets\n",
    "admissions = pd.read_csv('./data/hosp/admissions.csv')\n",
    "patients = pd.read_csv('./data/hosp/patients.csv')\n",
    "diagnoses = pd.read_csv('./data/hosp/diagnoses_icd.csv')\n",
    "icustays = pd.read_csv('./data/icu/icustays.csv')\n",
    "prescriptions = pd.read_csv('./data/hosp/prescriptions.csv')\n",
    "\n",
    "print(\"Initial admissions:\", admissions.shape[0], \"Patients:\", patients['subject_id'].nunique(), \"Notes:\", diagnoses.shape[0])\n",
    "\n",
    "# Step 2: Exclude patients under 18\n",
    "patients_adult = patients[patients['anchor_age'] >= 18]\n",
    "admissions = admissions[admissions['subject_id'].isin(patients_adult['subject_id'])].copy()\n",
    "diagnoses = diagnoses[diagnoses['hadm_id'].isin(admissions['hadm_id'])].copy()\n",
    "\n",
    "# Recalculate patients and notes counts\n",
    "print(\"After excluding <18:\", admissions.shape[0],\n",
    "      \"Patients:\", admissions['subject_id'].nunique(),\n",
    "      \"Notes:\", diagnoses.shape[0])\n",
    "\n",
    "# Step 3: Identify psychiatric conditions\n",
    "psych_icd_codes = ('296', '295', '303', '304', '305', 'F20', 'F21', 'F22', 'F23', 'F24', 'F25',\n",
    "                   'F28', 'F29', 'F30', 'F31', 'F32', 'F33', 'F34', 'F39', 'F10', 'F11', 'F12', \n",
    "                   'F13', 'F14', 'F15', 'F16', 'F17', 'F18', 'F19')\n",
    "\n",
    "diagnoses['psych_flag'] = diagnoses['icd_code'].astype(str).str.startswith(psych_icd_codes)\n",
    "psych_admissions = diagnoses[diagnoses['psych_flag']]['hadm_id'].unique()\n",
    "admissions = admissions[admissions['hadm_id'].isin(psych_admissions)].copy()\n",
    "diagnoses = diagnoses[diagnoses['hadm_id'].isin(admissions['hadm_id'])].copy()\n",
    "print(\"Psych admissions:\", admissions.shape[0], \"Patients:\", admissions['subject_id'].nunique(), \"Notes:\", diagnoses.shape[0])\n",
    "\n",
    "# Sort admissions\n",
    "admissions = admissions.sort_values(['subject_id', 'admittime']).copy()\n",
    "\n"
   ]
  },
  {
   "cell_type": "code",
   "execution_count": 2,
   "id": "4e35e415",
   "metadata": {},
   "outputs": [
    {
     "name": "stdout",
     "output_type": "stream",
     "text": [
      "ICU admissions: 73141 Patients: 50934\n",
      "ICU Psych readmissions (30d): 3013 Unique Patients: 2191\n"
     ]
    }
   ],
   "source": [
    "# Step 4: Define ICU readmissions\n",
    "print(\"ICU admissions:\", icustays.shape[0], \"Patients:\", icustays['subject_id'].nunique())\n",
    "icu_stays = icustays['subject_id'].isin(admissions['subject_id']).copy()\n",
    "icu_admissions = icustays.merge(admissions[['hadm_id', 'dischtime']], on='hadm_id', how='inner')\n",
    "icu_admissions = icu_admissions.sort_values(['subject_id', 'intime']).copy()\n",
    "\n",
    "icu_admissions['next_admission'] = icu_admissions.groupby('subject_id')['intime'].shift(-1)\n",
    "icu_admissions['dischtime'] = pd.to_datetime(icu_admissions['dischtime'])\n",
    "icu_admissions['next_admission'] = pd.to_datetime(icu_admissions['next_admission'])\n",
    "\n",
    "icu_admissions['readmitted_30d'] = (icu_admissions['next_admission'] - icu_admissions['dischtime']).dt.days <= 30\n",
    "icu_admissions['readmitted_30d'] = icu_admissions['readmitted_30d'].fillna(False)\n",
    "print(\"ICU Psych readmissions (30d):\", icu_admissions['readmitted_30d'].sum(), \n",
    "    \"Unique Patients:\", icu_admissions[icu_admissions['readmitted_30d']]['subject_id'].nunique())\n"
   ]
  },
  {
   "cell_type": "code",
   "execution_count": 3,
   "id": "771f86b7",
   "metadata": {},
   "outputs": [
    {
     "name": "stdout",
     "output_type": "stream",
     "text": [
      "Total prescriptions: 15399811 Patients: 158422\n",
      "Prescriptions for psych admissions: 4233384 Patients: 45660\n",
      "Psych prescriptions: 181314 Patients: 31764\n",
      "Psych Medication discontinued admissions: 12\n",
      "Unique patients with psych medication discontinued: 12\n"
     ]
    }
   ],
   "source": [
    "# Step 5: Medication discontinuation\n",
    "psych_meds = ['haloperidol', 'risperidone', 'quetiapine', 'olanzapine', 'lorazepam', 'diazepam', 'alprazolam',\n",
    "              'fluoxetine', 'sertraline', 'citalopram', 'escitalopram', 'paroxetine', 'venlafaxine', 'duloxetine',\n",
    "              'bupropion', 'mirtazapine', 'valproate', 'lithium']\n",
    "\n",
    "# Total prescriptions before filtering\n",
    "print(\"Total prescriptions:\", prescriptions.shape[0], \"Patients:\", prescriptions['subject_id'].nunique())\n",
    "\n",
    "# Filter prescriptions to adult psychiatric admissions\n",
    "prescriptions = prescriptions[prescriptions['hadm_id'].isin(admissions['hadm_id'])].copy()\n",
    "print(\"Prescriptions for psych admissions:\", prescriptions.shape[0], \"Patients:\", prescriptions['subject_id'].nunique())\n",
    "\n",
    "prescriptions['drug'] = prescriptions['drug'].astype(str).str.lower()\n",
    "prescriptions['psych_med_flag'] = prescriptions['drug'].isin(psych_meds)\n",
    "psych_prescriptions = prescriptions[prescriptions['psych_med_flag']].copy()\n",
    "print(\"Psych prescriptions:\", psych_prescriptions.shape[0], \"Patients:\", psych_prescriptions['subject_id'].nunique())\n",
    "\n",
    "# Discontinued medications\n",
    "psych_prescriptions.loc[:, 'stoptime'] = pd.to_datetime(psych_prescriptions['stoptime'], errors='coerce')\n",
    "last_prescriptions = psych_prescriptions.groupby('hadm_id')['stoptime'].max().reset_index()\n",
    "last_prescriptions.rename(columns={'stoptime': 'last_psych_med_time'}, inplace=True)\n",
    "\n",
    "# Only include in admissions those hadm_id with psych meds\n",
    "admissions_with_meds = admissions[admissions['hadm_id'].isin(last_prescriptions['hadm_id'])].copy()\n",
    "admissions_with_meds = admissions_with_meds.merge(last_prescriptions, on='hadm_id', how='left')\n",
    "admissions_with_meds['med_discontinued'] = admissions_with_meds['last_psych_med_time'].isnull()\n",
    "discontinued_prescriptions = admissions_with_meds[admissions_with_meds['med_discontinued']]\n",
    "print(\"Psych Medication discontinued admissions:\", discontinued_prescriptions.shape[0])\n",
    "print(\"Unique patients with psych medication discontinued:\", discontinued_prescriptions['subject_id'].nunique())"
   ]
  },
  {
   "cell_type": "code",
   "execution_count": null,
   "id": "83a0e8cf",
   "metadata": {},
   "outputs": [
    {
     "name": "stdout",
     "output_type": "stream",
     "text": [
      "After data cleanup: 117189 Patients: 55780 Notes: 1401206\n",
      "Final dataset: 117189 Patients: 55780 Notes: 1401206\n"
     ]
    }
   ],
   "source": [
    "# To files\n",
    "admissions.to_csv('./data/admissions_processed.csv', index=False)\n",
    "diagnoses.to_csv('./data/diagnoses_processed.csv', index=False)\n",
    "icu_admissions.to_csv('./data/icu_admissions_processed.csv', index=False)\n",
    "last_prescriptions.to_csv('./data/last_prescriptions_processed.csv', index=False)"
   ]
  }
 ],
 "metadata": {
  "kernelspec": {
   "display_name": "3.11.9",
   "language": "python",
   "name": "python3"
  },
  "language_info": {
   "codemirror_mode": {
    "name": "ipython",
    "version": 3
   },
   "file_extension": ".py",
   "mimetype": "text/x-python",
   "name": "python",
   "nbconvert_exporter": "python",
   "pygments_lexer": "ipython3",
   "version": "3.11.9"
  }
 },
 "nbformat": 4,
 "nbformat_minor": 5
}
