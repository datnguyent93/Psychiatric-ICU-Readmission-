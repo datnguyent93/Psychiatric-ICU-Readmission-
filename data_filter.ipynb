{
 "cells": [
  {
   "cell_type": "markdown",
   "id": "9878a3a2",
   "metadata": {},
   "source": [
    "### I. Research Questions:\n",
    "1. Which psychiatric diagnosis are associated with higher ICU readmission rates? -> Do patient with mood disorders (296.x), psychotic disorders (295.x) or substance use (303-305) have higher [30]-day readmission rates compared to those without?\n",
    "2. Does discontinuation or poor psychotropic medications at discharge predict higher readmissions? -> Does the discontinuation of psychotropic medication upon discharge correlate with increased readmission risk?\n",
    "3. Can we combine patient-level features to predict ICU readmission risk? -> which combination of demographics, ICU, severity scores and medication changes is most predictive of readmission?"
   ]
  },
  {
   "cell_type": "code",
   "execution_count": 1,
   "id": "8b2c24e5",
   "metadata": {},
   "outputs": [
    {
     "name": "stdout",
     "output_type": "stream",
     "text": [
      "Initial admissions: 431088 Patients: 299777 Notes: 4752265\n",
      "After excluding <18: 431088 Patients: 180747 Notes: 4752265\n",
      "Psych admissions: 126867 Patients: 60782 Notes: 1543747\n",
      "   subject_id   hadm_id            admittime            dischtime deathtime  \\\n",
      "0    10000032  22595853  2180-05-06 22:23:00  2180-05-07 17:15:00       NaN   \n",
      "1    10000032  22841357  2180-06-26 18:27:00  2180-06-27 18:49:00       NaN   \n",
      "3    10000032  29079034  2180-07-23 12:35:00  2180-07-25 17:55:00       NaN   \n",
      "2    10000032  25742920  2180-08-05 23:44:00  2180-08-07 17:50:00       NaN   \n",
      "4    10000068  25022803  2160-03-03 23:16:00  2160-03-04 06:26:00       NaN   \n",
      "\n",
      "   admission_type      admission_location discharge_location insurance  \\\n",
      "0          URGENT  TRANSFER FROM HOSPITAL               HOME     Other   \n",
      "1        EW EMER.          EMERGENCY ROOM               HOME  Medicaid   \n",
      "3        EW EMER.          EMERGENCY ROOM               HOME  Medicaid   \n",
      "2        EW EMER.          EMERGENCY ROOM            HOSPICE  Medicaid   \n",
      "4  EU OBSERVATION          EMERGENCY ROOM                NaN     Other   \n",
      "\n",
      "  language marital_status   race            edregtime            edouttime  \\\n",
      "0  ENGLISH        WIDOWED  WHITE  2180-05-06 19:17:00  2180-05-06 23:30:00   \n",
      "1  ENGLISH        WIDOWED  WHITE  2180-06-26 15:54:00  2180-06-26 21:31:00   \n",
      "3  ENGLISH        WIDOWED  WHITE  2180-07-23 05:54:00  2180-07-23 14:00:00   \n",
      "2  ENGLISH        WIDOWED  WHITE  2180-08-05 20:58:00  2180-08-06 01:44:00   \n",
      "4  ENGLISH         SINGLE  WHITE  2160-03-03 21:55:00  2160-03-04 06:26:00   \n",
      "\n",
      "   hospital_expire_flag  \n",
      "0                     0  \n",
      "1                     0  \n",
      "3                     0  \n",
      "2                     0  \n",
      "4                     0  \n"
     ]
    }
   ],
   "source": [
    "import pandas as pd\n",
    "\n",
    "admissions = pd.read_csv('./data/hosp/admissions.csv')\n",
    "patients = pd.read_csv('./data/hosp/patients.csv')\n",
    "diagnoses = pd.read_csv('./data/hosp/diagnoses_icd.csv')\n",
    "icustays = pd.read_csv('./data/icu/icustays.csv')\n",
    "prescriptions = pd.read_csv('./data/hosp/prescriptions.csv')\n",
    "\n",
    "print(\"Initial admissions:\", admissions.shape[0], \"Patients:\", patients['subject_id'].nunique(), \"Notes:\", diagnoses.shape[0])\n",
    "\n",
    "# Exclude patients under 18\n",
    "patients_adult = patients[patients['anchor_age'] >= 18]\n",
    "admissions = admissions[admissions['subject_id'].isin(patients_adult['subject_id'])].copy()\n",
    "diagnoses = diagnoses[diagnoses['hadm_id'].isin(admissions['hadm_id'])].copy()\n",
    "\n",
    "# Recalculate patients and notes counts\n",
    "print(\"After excluding <18:\", admissions.shape[0],\n",
    "      \"Patients:\", admissions['subject_id'].nunique(),\n",
    "      \"Notes:\", diagnoses.shape[0])\n",
    "\n",
    "# Identify psychiatric conditions\n",
    "# Updated list of ICD codes for mental disorders\n",
    "psych_icd_codes = ('296', '295', '303', '304', '305', 'F20', 'F21', 'F22', 'F23', 'F24', 'F25',\n",
    "                           'F28', 'F29', 'F30', 'F31', 'F32', 'F33', 'F34', 'F39', 'F10', 'F11', 'F12', \n",
    "                           'F13', 'F14', 'F15', 'F16', 'F17', 'F18', 'F19', 'F40', 'F41', 'F42', 'F43', \n",
    "                           'F44', 'F45', 'F48', 'F50', 'F51', 'F52', 'F53', 'F54', 'F59', 'F60', 'F61', \n",
    "                           'F62', 'F63', 'F64', 'F65', 'F66', 'F68', 'F69', 'F70', 'F71', 'F72', 'F73', \n",
    "                           'F74', 'F75', 'F78', 'F79', 'F80', 'F81', 'F82', 'F83', 'F84', 'F88', 'F89', \n",
    "                           'F90', 'F91', 'F92', 'F93', 'F94', 'F95', 'F98', 'F99')\n",
    "\n",
    "diagnoses['psych_flag'] = diagnoses['icd_code'].astype(str).str.startswith(psych_icd_codes)\n",
    "psych_admissions = diagnoses[diagnoses['psych_flag']]['hadm_id'].unique()\n",
    "admissions = admissions[admissions['hadm_id'].isin(psych_admissions)].copy()\n",
    "diagnoses = diagnoses[diagnoses['hadm_id'].isin(admissions['hadm_id'])].copy()\n",
    "print(\"Psych admissions:\", admissions.shape[0], \"Patients:\", admissions['subject_id'].nunique(), \"Notes:\", diagnoses.shape[0])\n",
    "\n",
    "# Sort admissions\n",
    "admissions = admissions.sort_values(['subject_id', 'admittime']).copy()\n",
    "print(admissions.head())\n",
    "admissions.to_csv('./data/psych_admissions.csv', index=False)\n",
    "diagnoses.to_csv('./data/psych_diagnoses.csv', index=False)"
   ]
  },
  {
   "cell_type": "code",
   "execution_count": 2,
   "id": "4e35e415",
   "metadata": {},
   "outputs": [
    {
     "name": "stdout",
     "output_type": "stream",
     "text": [
      "ICU admissions: 73141 Patients: 50934\n",
      "ICU Psych readmissions (30d): 3363 Unique Patients: 2425\n",
      "   subject_id   hadm_id   stay_id                       first_careunit  \\\n",
      "0    10000032  29079034  39553978   Medical Intensive Care Unit (MICU)   \n",
      "1    10001217  24597018  37067082  Surgical Intensive Care Unit (SICU)   \n",
      "2    10001217  27703517  34592300  Surgical Intensive Care Unit (SICU)   \n",
      "3    10001884  26184834  37510196   Medical Intensive Care Unit (MICU)   \n",
      "4    10002348  22725460  32610785                   Neuro Intermediate   \n",
      "\n",
      "                         last_careunit               intime  \\\n",
      "0   Medical Intensive Care Unit (MICU)  2180-07-23 14:00:00   \n",
      "1  Surgical Intensive Care Unit (SICU)  2157-11-20 19:18:02   \n",
      "2  Surgical Intensive Care Unit (SICU)  2157-12-19 15:42:24   \n",
      "3   Medical Intensive Care Unit (MICU)  2131-01-11 04:20:05   \n",
      "4                   Neuro Intermediate  2112-11-30 23:24:00   \n",
      "\n",
      "               outtime       los           dischtime      next_admission  \\\n",
      "0  2180-07-23 23:50:47  0.410266 2180-07-25 17:55:00                 NaT   \n",
      "1  2157-11-21 22:08:00  1.118032 2157-11-25 18:00:00 2157-12-19 15:42:24   \n",
      "2  2157-12-20 14:27:41  0.948113 2157-12-24 14:55:00                 NaT   \n",
      "3  2131-01-20 08:27:30  9.171817 2131-01-20 05:15:00                 NaT   \n",
      "4  2112-12-10 18:25:13  9.792512 2112-12-10 17:56:00                 NaT   \n",
      "\n",
      "   readmitted_30d  \n",
      "0           False  \n",
      "1            True  \n",
      "2           False  \n",
      "3           False  \n",
      "4           False  \n"
     ]
    }
   ],
   "source": [
    "# Step 3: Define ICU readmissions\n",
    "print(\"ICU admissions:\", icustays.shape[0], \"Patients:\", icustays['subject_id'].nunique())\n",
    "icu_stays = icustays['subject_id'].isin(admissions['subject_id']).copy()\n",
    "icu_admissions = icustays.merge(admissions[['hadm_id', 'dischtime']], on='hadm_id', how='inner')\n",
    "icu_admissions = icu_admissions.sort_values(['subject_id', 'intime']).copy()\n",
    "\n",
    "icu_admissions['next_admission'] = icu_admissions.groupby('subject_id')['intime'].shift(-1)\n",
    "icu_admissions['dischtime'] = pd.to_datetime(icu_admissions['dischtime'])\n",
    "icu_admissions['next_admission'] = pd.to_datetime(icu_admissions['next_admission'])\n",
    "icu_admissions.to_csv('./data/icu_psych_admissions.csv', index=False)\n",
    "\n",
    "icu_admissions['readmitted_30d'] = (icu_admissions['next_admission'] - icu_admissions['dischtime']).dt.days <= 30\n",
    "icu_admissions['readmitted_30d'] = icu_admissions['readmitted_30d'].fillna(False)\n",
    "print(\"ICU Psych readmissions (30d):\", icu_admissions['readmitted_30d'].sum(), \n",
    "    \"Unique Patients:\", icu_admissions[icu_admissions['readmitted_30d']]['subject_id'].nunique())\n",
    "\n",
    "print(icu_admissions.head())\n",
    "icu_admissions.to_csv('./data/icu_psy_readmissions.csv', index=False)\n"
   ]
  },
  {
   "cell_type": "code",
   "execution_count": 3,
   "id": "771f86b7",
   "metadata": {},
   "outputs": [
    {
     "name": "stdout",
     "output_type": "stream",
     "text": [
      "Total prescriptions: 15399811 Patients: 158422\n",
      "Prescriptions for psych admissions: 4706768 Patients: 50439\n",
      "Psych prescriptions: 198927 Patients: 35130\n",
      "Psych Medication discontinued admissions: 13\n",
      "Unique patients with psych medication discontinued: 13\n"
     ]
    }
   ],
   "source": [
    "# Step 4: Medication discontinuation\n",
    "psych_meds = ['haloperidol', 'risperidone', 'quetiapine', 'olanzapine', 'lorazepam', 'diazepam', 'alprazolam',\n",
    "              'fluoxetine', 'sertraline', 'citalopram', 'escitalopram', 'paroxetine', 'venlafaxine', 'duloxetine',\n",
    "              'bupropion', 'mirtazapine', 'valproate', 'lithium']\n",
    "\n",
    "# Total prescriptions before filtering\n",
    "print(\"Total prescriptions:\", prescriptions.shape[0], \"Patients:\", prescriptions['subject_id'].nunique())\n",
    "\n",
    "# Filter prescriptions to adult psychiatric admissions\n",
    "prescriptions = prescriptions[prescriptions['hadm_id'].isin(admissions['hadm_id'])].copy()\n",
    "print(\"Prescriptions for psych admissions:\", prescriptions.shape[0], \"Patients:\", prescriptions['subject_id'].nunique())\n",
    "prescriptions.to_csv('./data/prescripted_patients.csv', index=False)\n",
    "\n",
    "prescriptions['drug'] = prescriptions['drug'].astype(str).str.lower()\n",
    "prescriptions['psych_med_flag'] = prescriptions['drug'].isin(psych_meds)\n",
    "psych_prescriptions = prescriptions[prescriptions['psych_med_flag']].copy()\n",
    "print(\"Psych prescriptions:\", psych_prescriptions.shape[0], \"Patients:\", psych_prescriptions['subject_id'].nunique())\n",
    "psych_prescriptions.to_csv('./data/psych_prescriptions.csv', index=False)\n",
    "\n",
    "# Discontinued medications\n",
    "psych_prescriptions.loc[:, 'stoptime'] = pd.to_datetime(psych_prescriptions['stoptime'], errors='coerce')\n",
    "last_prescriptions = psych_prescriptions.groupby('hadm_id')['stoptime'].max().reset_index()\n",
    "last_prescriptions.rename(columns={'stoptime': 'last_psych_med_time'}, inplace=True)\n",
    "\n",
    "# Only include in admissions those hadm_id with psych meds\n",
    "admissions_with_meds = admissions[admissions['hadm_id'].isin(last_prescriptions['hadm_id'])].copy()\n",
    "admissions_with_meds = admissions_with_meds.merge(last_prescriptions, on='hadm_id', how='left')\n",
    "admissions_with_meds['med_discontinued'] = admissions_with_meds['last_psych_med_time'].isnull()\n",
    "discontinued_prescriptions = admissions_with_meds[admissions_with_meds['med_discontinued']]\n",
    "print(\"Psych Medication discontinued admissions:\", discontinued_prescriptions.shape[0])\n",
    "print(\"Unique patients with psych medication discontinued:\", discontinued_prescriptions['subject_id'].nunique())"
   ]
  },
  {
   "cell_type": "code",
   "execution_count": 4,
   "id": "83a0e8cf",
   "metadata": {},
   "outputs": [],
   "source": [
    "# To files\n",
    "last_prescriptions.to_csv('./data/last_prescriptions_processed.csv', index=False)"
   ]
  }
 ],
 "metadata": {
  "kernelspec": {
   "display_name": "Python 3",
   "language": "python",
   "name": "python3"
  },
  "language_info": {
   "codemirror_mode": {
    "name": "ipython",
    "version": 3
   },
   "file_extension": ".py",
   "mimetype": "text/x-python",
   "name": "python",
   "nbconvert_exporter": "python",
   "pygments_lexer": "ipython3",
   "version": "3.11.0"
  }
 },
 "nbformat": 4,
 "nbformat_minor": 5
}
